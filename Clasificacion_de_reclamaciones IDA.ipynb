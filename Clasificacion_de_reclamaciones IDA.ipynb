{
 "cells": [
  {
   "cell_type": "code",
   "execution_count": 16,
   "metadata": {
    "id": "jSlohtft-G2a"
   },
   "outputs": [],
   "source": [
    "import numpy as np      ## sirve para manipular arrays\n",
    "import pandas as pd     ## sirve para manipular dataframes\n",
    "import matplotlib.pyplot as plt     ## sirve para realizar plots\n",
    "import seaborn as sns               ## sirve para realizar plots"
   ]
  },
  {
   "cell_type": "code",
   "execution_count": 17,
   "metadata": {
    "colab": {
     "base_uri": "https://localhost:8080/",
     "height": 257
    },
    "id": "1J7V8g0LEfHx",
    "outputId": "2d18d1e4-a691-4340-dfc3-547bea710ec2"
   },
   "outputs": [
    {
     "name": "stderr",
     "output_type": "stream",
     "text": [
      "C:\\Users\\Cristian Restrepo\\anaconda3\\lib\\site-packages\\IPython\\core\\interactiveshell.py:3165: DtypeWarning: Columns (9,13,15) have mixed types.Specify dtype option on import or set low_memory=False.\n",
      "  has_raised = await self.run_ast_nodes(code_ast.body, cell_name,\n"
     ]
    },
    {
     "data": {
      "text/html": [
       "<div>\n",
       "<style scoped>\n",
       "    .dataframe tbody tr th:only-of-type {\n",
       "        vertical-align: middle;\n",
       "    }\n",
       "\n",
       "    .dataframe tbody tr th {\n",
       "        vertical-align: top;\n",
       "    }\n",
       "\n",
       "    .dataframe thead th {\n",
       "        text-align: right;\n",
       "    }\n",
       "</style>\n",
       "<table border=\"1\" class=\"dataframe\">\n",
       "  <thead>\n",
       "    <tr style=\"text-align: right;\">\n",
       "      <th></th>\n",
       "      <th>DANE_DEPTO</th>\n",
       "      <th>DANE_MUN</th>\n",
       "      <th>DANE_LOC</th>\n",
       "      <th>RADICADO</th>\n",
       "      <th>FECHA_RADICADO</th>\n",
       "      <th>TIPO_TRAMITE</th>\n",
       "      <th>CAUSAL</th>\n",
       "      <th>DETALLE_CAUSAL</th>\n",
       "      <th>NUI</th>\n",
       "      <th>FACTURA</th>\n",
       "      <th>TIPO_RTA</th>\n",
       "      <th>FECHA_RTA</th>\n",
       "      <th>RAD_RTA</th>\n",
       "      <th>FECHA_NOTIF</th>\n",
       "      <th>TIPO_NOTIF</th>\n",
       "      <th>F_SSPD</th>\n",
       "    </tr>\n",
       "  </thead>\n",
       "  <tbody>\n",
       "    <tr>\n",
       "      <th>0</th>\n",
       "      <td>8</td>\n",
       "      <td>1</td>\n",
       "      <td>0</td>\n",
       "      <td>RE1110201706563</td>\n",
       "      <td>20-02-2017</td>\n",
       "      <td>1</td>\n",
       "      <td>F</td>\n",
       "      <td>118</td>\n",
       "      <td>20004567</td>\n",
       "      <td>7773659016</td>\n",
       "      <td>10</td>\n",
       "      <td>NaN</td>\n",
       "      <td>NaN</td>\n",
       "      <td>NaN</td>\n",
       "      <td>4</td>\n",
       "      <td>NaN</td>\n",
       "    </tr>\n",
       "    <tr>\n",
       "      <th>1</th>\n",
       "      <td>8</td>\n",
       "      <td>1</td>\n",
       "      <td>0</td>\n",
       "      <td>RE1110201713228</td>\n",
       "      <td>10-04-2017</td>\n",
       "      <td>1</td>\n",
       "      <td>F</td>\n",
       "      <td>102</td>\n",
       "      <td>17205311</td>\n",
       "      <td>2250644189</td>\n",
       "      <td>10</td>\n",
       "      <td>NaN</td>\n",
       "      <td>NaN</td>\n",
       "      <td>NaN</td>\n",
       "      <td>4</td>\n",
       "      <td>NaN</td>\n",
       "    </tr>\n",
       "    <tr>\n",
       "      <th>2</th>\n",
       "      <td>8</td>\n",
       "      <td>1</td>\n",
       "      <td>0</td>\n",
       "      <td>RE1110201731806</td>\n",
       "      <td>13-08-2017</td>\n",
       "      <td>1</td>\n",
       "      <td>F</td>\n",
       "      <td>122</td>\n",
       "      <td>17141535</td>\n",
       "      <td>2191113211</td>\n",
       "      <td>10</td>\n",
       "      <td>NaN</td>\n",
       "      <td>NaN</td>\n",
       "      <td>NaN</td>\n",
       "      <td>4</td>\n",
       "      <td>NaN</td>\n",
       "    </tr>\n",
       "    <tr>\n",
       "      <th>3</th>\n",
       "      <td>8</td>\n",
       "      <td>1</td>\n",
       "      <td>0</td>\n",
       "      <td>RE1110201732325</td>\n",
       "      <td>16-08-2017</td>\n",
       "      <td>1</td>\n",
       "      <td>F</td>\n",
       "      <td>102</td>\n",
       "      <td>17259404</td>\n",
       "      <td>2131679238</td>\n",
       "      <td>10</td>\n",
       "      <td>NaN</td>\n",
       "      <td>NaN</td>\n",
       "      <td>NaN</td>\n",
       "      <td>4</td>\n",
       "      <td>NaN</td>\n",
       "    </tr>\n",
       "    <tr>\n",
       "      <th>4</th>\n",
       "      <td>8</td>\n",
       "      <td>1</td>\n",
       "      <td>0</td>\n",
       "      <td>RE1110201734341</td>\n",
       "      <td>31-08-2017</td>\n",
       "      <td>1</td>\n",
       "      <td>F</td>\n",
       "      <td>102</td>\n",
       "      <td>19677691</td>\n",
       "      <td>7627906055</td>\n",
       "      <td>10</td>\n",
       "      <td>NaN</td>\n",
       "      <td>NaN</td>\n",
       "      <td>NaN</td>\n",
       "      <td>4</td>\n",
       "      <td>NaN</td>\n",
       "    </tr>\n",
       "  </tbody>\n",
       "</table>\n",
       "</div>"
      ],
      "text/plain": [
       "   DANE_DEPTO  DANE_MUN  DANE_LOC         RADICADO FECHA_RADICADO  \\\n",
       "0           8         1         0  RE1110201706563     20-02-2017   \n",
       "1           8         1         0  RE1110201713228     10-04-2017   \n",
       "2           8         1         0  RE1110201731806     13-08-2017   \n",
       "3           8         1         0  RE1110201732325     16-08-2017   \n",
       "4           8         1         0  RE1110201734341     31-08-2017   \n",
       "\n",
       "   TIPO_TRAMITE CAUSAL  DETALLE_CAUSAL       NUI     FACTURA  TIPO_RTA  \\\n",
       "0             1      F             118  20004567  7773659016        10   \n",
       "1             1      F             102  17205311  2250644189        10   \n",
       "2             1      F             122  17141535  2191113211        10   \n",
       "3             1      F             102  17259404  2131679238        10   \n",
       "4             1      F             102  19677691  7627906055        10   \n",
       "\n",
       "  FECHA_RTA RAD_RTA FECHA_NOTIF  TIPO_NOTIF F_SSPD  \n",
       "0       NaN     NaN         NaN           4    NaN  \n",
       "1       NaN     NaN         NaN           4    NaN  \n",
       "2       NaN     NaN         NaN           4    NaN  \n",
       "3       NaN     NaN         NaN           4    NaN  \n",
       "4       NaN     NaN         NaN           4    NaN  "
      ]
     },
     "execution_count": 17,
     "metadata": {},
     "output_type": "execute_result"
    }
   ],
   "source": [
    "# Cargar la base de datos\n",
    "\n",
    "Reclamos=pd.read_csv('Base_Datos_202010.csv')\n",
    "Reclamos.head()"
   ]
  },
  {
   "cell_type": "code",
   "execution_count": 18,
   "metadata": {
    "colab": {
     "base_uri": "https://localhost:8080/"
    },
    "id": "0Ny13db_VMKX",
    "outputId": "8ed49e3e-479b-45a1-f411-3a263fb2712f"
   },
   "outputs": [
    {
     "data": {
      "text/plain": [
       "(66199, 16)"
      ]
     },
     "execution_count": 18,
     "metadata": {},
     "output_type": "execute_result"
    }
   ],
   "source": [
    "## Revisar el tamaño del dataset\n",
    "\n",
    "Reclamos.shape"
   ]
  },
  {
   "cell_type": "code",
   "execution_count": 19,
   "metadata": {
    "colab": {
     "base_uri": "https://localhost:8080/"
    },
    "id": "ybxq_QpMEu4I",
    "outputId": "c5094920-7c61-4ecc-d5f2-15a7d18020fb"
   },
   "outputs": [
    {
     "name": "stdout",
     "output_type": "stream",
     "text": [
      "<class 'pandas.core.frame.DataFrame'>\n",
      "RangeIndex: 66199 entries, 0 to 66198\n",
      "Data columns (total 16 columns):\n",
      " #   Column          Non-Null Count  Dtype \n",
      "---  ------          --------------  ----- \n",
      " 0   DANE_DEPTO      66199 non-null  int64 \n",
      " 1   DANE_MUN        66199 non-null  int64 \n",
      " 2   DANE_LOC        66199 non-null  int64 \n",
      " 3   RADICADO        66199 non-null  object\n",
      " 4   FECHA_RADICADO  66199 non-null  object\n",
      " 5   TIPO_TRAMITE    66199 non-null  int64 \n",
      " 6   CAUSAL          66199 non-null  object\n",
      " 7   DETALLE_CAUSAL  66199 non-null  int64 \n",
      " 8   NUI             66199 non-null  int64 \n",
      " 9   FACTURA         66199 non-null  object\n",
      " 10  TIPO_RTA        66199 non-null  int64 \n",
      " 11  FECHA_RTA       34995 non-null  object\n",
      " 12  RAD_RTA         34995 non-null  object\n",
      " 13  FECHA_NOTIF     6848 non-null   object\n",
      " 14  TIPO_NOTIF      66199 non-null  int64 \n",
      " 15  F_SSPD          1243 non-null   object\n",
      "dtypes: int64(8), object(8)\n",
      "memory usage: 8.1+ MB\n"
     ]
    }
   ],
   "source": [
    "## Obtener el tipo de dato de cada variable y la totalidad de las entradas\n",
    "\n",
    "Reclamos.info()"
   ]
  },
  {
   "cell_type": "code",
   "execution_count": 20,
   "metadata": {
    "id": "1DZK610cNE2n"
   },
   "outputs": [],
   "source": [
    "## Se elimina la variable que no aporta informacion al proposito del proyecto, como numero de radicado, NUI (Identificacion del cliente), numero de factura dado que son distintas siempre\n",
    "\n",
    "Reclamos = Reclamos.drop(['RADICADO', 'NUI', 'FACTURA'], axis = 1)"
   ]
  },
  {
   "cell_type": "code",
   "execution_count": 21,
   "metadata": {
    "colab": {
     "base_uri": "https://localhost:8080/"
    },
    "id": "N8X4WSvkE4Ez",
    "outputId": "b0092c07-2450-4482-c383-3d452c8b42fe"
   },
   "outputs": [
    {
     "data": {
      "text/plain": [
       "DANE_DEPTO            0\n",
       "DANE_MUN              0\n",
       "DANE_LOC              0\n",
       "FECHA_RADICADO        0\n",
       "TIPO_TRAMITE          0\n",
       "CAUSAL                0\n",
       "DETALLE_CAUSAL        0\n",
       "TIPO_RTA              0\n",
       "FECHA_RTA         31204\n",
       "RAD_RTA           31204\n",
       "FECHA_NOTIF       59351\n",
       "TIPO_NOTIF            0\n",
       "F_SSPD            64956\n",
       "dtype: int64"
      ]
     },
     "execution_count": 21,
     "metadata": {},
     "output_type": "execute_result"
    }
   ],
   "source": [
    "## revisar si existen datos faltantes dentro del dataframe\n",
    "\n",
    "Reclamos.isnull().sum()"
   ]
  },
  {
   "cell_type": "code",
   "execution_count": 22,
   "metadata": {
    "id": "iJEaTvR5Fyg4"
   },
   "outputs": [],
   "source": [
    "## Se elimina la variable FECHA_RTA, RAD_RTA, FECHA_NOTIF, F_SSPD dado que no aporta informacion relevante al proposito del proyecto y se tienen varios campos nulos\n",
    "\n",
    "Reclamos = Reclamos.drop(['FECHA_RTA', 'RAD_RTA', 'FECHA_NOTIF', 'F_SSPD'], axis = 1)"
   ]
  },
  {
   "cell_type": "code",
   "execution_count": 23,
   "metadata": {
    "colab": {
     "base_uri": "https://localhost:8080/"
    },
    "id": "x150sD_EGYTb",
    "outputId": "d4147cd4-d770-4b89-b1b4-4af0fade8e05"
   },
   "outputs": [
    {
     "data": {
      "text/plain": [
       "DANE_DEPTO        0\n",
       "DANE_MUN          0\n",
       "DANE_LOC          0\n",
       "FECHA_RADICADO    0\n",
       "TIPO_TRAMITE      0\n",
       "CAUSAL            0\n",
       "DETALLE_CAUSAL    0\n",
       "TIPO_RTA          0\n",
       "TIPO_NOTIF        0\n",
       "dtype: int64"
      ]
     },
     "execution_count": 23,
     "metadata": {},
     "output_type": "execute_result"
    }
   ],
   "source": [
    "## se revisa nuevamente si existen datos faltantes dentro del dataframe\n",
    "\n",
    "Reclamos.isnull().sum()"
   ]
  },
  {
   "cell_type": "code",
   "execution_count": 24,
   "metadata": {
    "colab": {
     "base_uri": "https://localhost:8080/"
    },
    "id": "Lcqx5RtVVRcY",
    "outputId": "d537221a-3874-4a5b-f613-fc68ca1fda78"
   },
   "outputs": [
    {
     "data": {
      "text/plain": [
       "(66199, 9)"
      ]
     },
     "execution_count": 24,
     "metadata": {},
     "output_type": "execute_result"
    }
   ],
   "source": [
    "## Revisar el tamaño del dataset\n",
    "\n",
    "Reclamos.shape"
   ]
  },
  {
   "cell_type": "code",
   "execution_count": 25,
   "metadata": {
    "colab": {
     "base_uri": "https://localhost:8080/",
     "height": 397
    },
    "id": "KkptiPXyJCwM",
    "outputId": "7bb7e370-2349-44c5-ce2b-7c6160c9cf38"
   },
   "outputs": [
    {
     "data": {
      "image/png": "[encoded data removed]",
      "text/plain": [
       "<Figure size 576x432 with 1 Axes>"
      ]
     },
     "metadata": {},
     "output_type": "display_data"
    }
   ],
   "source": [
    "# Se grafica la variable objetivo, en este caso es el tipo de tramite de reclamacion\n",
    "\n",
    "sns.set(font_scale = 1.2)\n",
    "sns.set_style('white')\n",
    "plt.figure(figsize=(8,6))\n",
    "ax = sns.countplot(x = Reclamos['TIPO_TRAMITE'], data = Reclamos, palette = 'crest', order = Reclamos.TIPO_TRAMITE.value_counts().index)\n",
    "plt.title('Tramite de Reclamacion')\n",
    "ax.set(xlabel=None, ylabel=None)\n",
    "plt.show()"
   ]
  },
  {
   "cell_type": "code",
   "execution_count": 26,
   "metadata": {
    "colab": {
     "base_uri": "https://localhost:8080/",
     "height": 397
    },
    "id": "Amwrzjq9GZ2G",
    "outputId": "acb147dc-1656-4f31-9bd2-ffdb0184fc6a"
   },
   "outputs": [
    {
     "data": {
      "image/png": "[encoded data removed]",
      "text/plain": [
       "<Figure size 720x432 with 1 Axes>"
      ]
     },
     "metadata": {},
     "output_type": "display_data"
    }
   ],
   "source": [
    "# Se grafica la variable detalle de causal, la cual es una variable categorica\n",
    "sns.set(font_scale = 1.2)\n",
    "sns.set_style('white')\n",
    "plt.figure(figsize=(10,6))\n",
    "ax = sns.countplot(x = Reclamos['DETALLE_CAUSAL'], data = Reclamos, palette = 'Blues_r', order = Reclamos.DETALLE_CAUSAL.value_counts().index)\n",
    "plt.title('Detalle causa Reclamacion')\n",
    "ax.set(xlabel=None, ylabel=None)\n",
    "plt.show()"
   ]
  },
  {
   "cell_type": "code",
   "execution_count": 27,
   "metadata": {
    "colab": {
     "base_uri": "https://localhost:8080/",
     "height": 397
    },
    "id": "Hh3jaQ9OHGGa",
    "outputId": "53fc4941-2420-4c88-e51d-0a28b72bc118"
   },
   "outputs": [
    {
     "data": {
      "image/png": "[encoded data removed]",
      "text/plain": [
       "<Figure size 576x432 with 1 Axes>"
      ]
     },
     "metadata": {},
     "output_type": "display_data"
    }
   ],
   "source": [
    "# Se grafica la variable departamento, la cual es una variable categorica\n",
    "\n",
    "sns.set(font_scale = 1.2)\n",
    "sns.set_style('white')\n",
    "plt.figure(figsize=(8,6))\n",
    "ax = sns.countplot(x = Reclamos['DANE_DEPTO'], data = Reclamos, palette = 'vlag', order = Reclamos.DANE_DEPTO.value_counts().index)\n",
    "plt.title('Departamento origen de Reclamacion')\n",
    "ax.set(xlabel=None, ylabel=None)\n",
    "plt.show()\n"
   ]
  },
  {
   "cell_type": "code",
   "execution_count": 28,
   "metadata": {
    "colab": {
     "base_uri": "https://localhost:8080/",
     "height": 397
    },
    "id": "xB1t16UMKWrI",
    "outputId": "9a06d1ba-f775-4120-9ebc-4d09b3c1f564"
   },
   "outputs": [
    {
     "data": {
      "image/png": "[encoded data removed]",
      "text/plain": [
       "<Figure size 720x432 with 1 Axes>"
      ]
     },
     "metadata": {},
     "output_type": "display_data"
    }
   ],
   "source": [
    "# Se grafica la variable causal, la cual es una variable categorica\n",
    "\n",
    "sns.set(font_scale = 1.2)\n",
    "sns.set_style('white')\n",
    "plt.figure(figsize=(10,6))\n",
    "ax = sns.countplot(x = Reclamos['CAUSAL'], data = Reclamos, palette = 'pastel', order = Reclamos.CAUSAL.value_counts().index)\n",
    "plt.title('Queja asociada a Factura/Prestacion de servicios')\n",
    "ax.set(xlabel=None, ylabel=None)\n",
    "plt.show()"
   ]
  },
  {
   "cell_type": "code",
   "execution_count": 29,
   "metadata": {
    "colab": {
     "base_uri": "https://localhost:8080/",
     "height": 397
    },
    "id": "1przQU3ILd-F",
    "outputId": "5fefc2f4-a79b-42d1-a47e-3c0bfbbc8276"
   },
   "outputs": [
    {
     "data": {
      "image/png": "[encoded data removed]",
      "text/plain": [
       "<Figure size 720x432 with 1 Axes>"
      ]
     },
     "metadata": {},
     "output_type": "display_data"
    }
   ],
   "source": [
    "# Se grafica la variable tipo de respuesta, la cual es una variable categorica\n",
    "\n",
    "sns.set(font_scale = 1.2)\n",
    "sns.set_style('white')\n",
    "plt.figure(figsize=(10,6))\n",
    "ax = sns.countplot(x = Reclamos['TIPO_RTA'], data = Reclamos, palette = 'ch:1,r=.5,l=.9_r', order = Reclamos.TIPO_RTA.value_counts().index, alpha = 0.8)\n",
    "plt.title('Tipo de Respuesta')\n",
    "ax.set(xlabel=None, ylabel=None)\n",
    "plt.show()"
   ]
  },
  {
   "cell_type": "code",
   "execution_count": 30,
   "metadata": {
    "colab": {
     "base_uri": "https://localhost:8080/",
     "height": 505
    },
    "id": "safIT7BHQMYR",
    "outputId": "21546667-f1f5-4530-e109-61fa28209277"
   },
   "outputs": [
    {
     "data": {
      "image/png": "[encoded data removed]",
      "text/plain": [
       "<Figure size 1440x576 with 1 Axes>"
      ]
     },
     "metadata": {},
     "output_type": "display_data"
    }
   ],
   "source": [
    "# Se grafica el detalle causal dividido cada uno por el tipo de tramite (nuestra variable objetivo)\n",
    "\n",
    "sns.set(font_scale = 1.2)\n",
    "sns.set_style('white')\n",
    "plt.figure(figsize=(20,8))\n",
    "ax = sns.countplot(x = Reclamos['DETALLE_CAUSAL'], data = Reclamos, hue = Reclamos['TIPO_TRAMITE'] ,order = Reclamos.DETALLE_CAUSAL.value_counts().index, hue_order=Reclamos.TIPO_TRAMITE.value_counts().index)\n",
    "plt.title('Detalle causa Reclamacion')\n",
    "ax.set(xlabel=None, ylabel=None)\n",
    "plt.show()"
   ]
  }
 ],
 "metadata": {
  "accelerator": "TPU",
  "colab": {
   "name": "Clasificacion de reclamaciones.ipynb",
   "provenance": []
  },
  "kernelspec": {
   "display_name": "Python 3",
   "language": "python",
   "name": "python3"
  },
  "language_info": {
   "codemirror_mode": {
    "name": "ipython",
    "version": 3
   },
   "file_extension": ".py",
   "mimetype": "text/x-python",
   "name": "python",
   "nbconvert_exporter": "python",
   "pygments_lexer": "ipython3",
   "version": "3.8.8"
  }
 },
 "nbformat": 4,
 "nbformat_minor": 1
}
