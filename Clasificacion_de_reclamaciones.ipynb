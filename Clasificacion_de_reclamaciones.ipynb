{
  "nbformat": 4,
  "nbformat_minor": 0,
  "metadata": {
    "colab": {
      "name": "Clasificacion de reclamaciones.ipynb",
      "provenance": [],
      "include_colab_link": true
    },
    "kernelspec": {
      "name": "python3",
      "display_name": "Python 3"
    },
    "language_info": {
      "name": "python"
    },
    "accelerator": "TPU"
  },
  "cells": [
    {
      "cell_type": "markdown",
      "metadata": {
        "id": "view-in-github",
        "colab_type": "text"
      },
      "source": [
        "<a href=\"https://colab.research.google.com/github/crestrepoz/Reclamaciones-y-Quejas/blob/main/Clasificacion_de_reclamaciones.ipynb\" target=\"_parent\"><img src=\"https://colab.research.google.com/assets/colab-badge.svg\" alt=\"Open In Colab\"/></a>"
      ]
    },
    {
      "cell_type": "code",
      "metadata": {
        "id": "jSlohtft-G2a"
      },
      "source": [
        "import numpy as np      ## sirve para manipular arrays\n",
        "import pandas as pd     ## sirve para manipular dataframes\n",
        "import matplotlib.pyplot as plt     ## sirve para realizar plots\n",
        "import seaborn as sns               ## sirve para realizar plots"
      ],
      "execution_count": 1,
      "outputs": []
    },
    {
      "cell_type": "code",
      "metadata": {
        "id": "kXFE1jKB_F1Z",
        "colab": {
          "base_uri": "https://localhost:8080/"
        },
        "outputId": "8e940fba-5d29-4b3e-a0e9-dba430566b52"
      },
      "source": [
        "## Establecer la ruta de acceso\n",
        "\n",
        "from google.colab import drive\n",
        "drive.mount('/content/gdrive')\n"
      ],
      "execution_count": 5,
      "outputs": [
        {
          "output_type": "stream",
          "text": [
            "Drive already mounted at /content/gdrive; to attempt to forcibly remount, call drive.mount(\"/content/gdrive\", force_remount=True).\n"
          ],
          "name": "stdout"
        }
      ]
    },
    {
      "cell_type": "code",
      "metadata": {
        "id": "PNnl_AgjAEce"
      },
      "source": [
        "from google.colab import drive\n",
        "drive.mount('/content/drive')\n",
        "ruta= 'gdrive/MyDrive/Proyecto_Reclamaciones'"
      ],
      "execution_count": null,
      "outputs": []
    },
    {
      "cell_type": "code",
      "metadata": {
        "colab": {
          "base_uri": "https://localhost:8080/",
          "height": 257
        },
        "id": "1J7V8g0LEfHx",
        "outputId": "2d18d1e4-a691-4340-dfc3-547bea710ec2"
      },
      "source": [
        "# Cargar la base de datos\n",
        "\n",
        "Reclamos=pd.read_csv('/content/gdrive/MyDrive/Proyecto_Reclamaciones/Base_Datos_202010.csv')\n",
        "Reclamos.head()"
      ],
      "execution_count": 9,
      "outputs": [
        {
          "output_type": "stream",
          "text": [
            "/usr/local/lib/python3.7/dist-packages/IPython/core/interactiveshell.py:2718: DtypeWarning: Columns (9,13,15) have mixed types.Specify dtype option on import or set low_memory=False.\n",
            "  interactivity=interactivity, compiler=compiler, result=result)\n"
          ],
          "name": "stderr"
        },
        {
          "output_type": "execute_result",
          "data": {
            "text/html": [
              "<div>\n",
              "<style scoped>\n",
              "    .dataframe tbody tr th:only-of-type {\n",
              "        vertical-align: middle;\n",
              "    }\n",
              "\n",
              "    .dataframe tbody tr th {\n",
              "        vertical-align: top;\n",
              "    }\n",
              "\n",
              "    .dataframe thead th {\n",
              "        text-align: right;\n",
              "    }\n",
              "</style>\n",
              "<table border=\"1\" class=\"dataframe\">\n",
              "  <thead>\n",
              "    <tr style=\"text-align: right;\">\n",
              "      <th></th>\n",
              "      <th>DANE_DEPTO</th>\n",
              "      <th>DANE_MUN</th>\n",
              "      <th>DANE_LOC</th>\n",
              "      <th>RADICADO</th>\n",
              "      <th>FECHA_RADICADO</th>\n",
              "      <th>TIPO_TRAMITE</th>\n",
              "      <th>CAUSAL</th>\n",
              "      <th>DETALLE_CAUSAL</th>\n",
              "      <th>NUI</th>\n",
              "      <th>FACTURA</th>\n",
              "      <th>TIPO_RTA</th>\n",
              "      <th>FECHA_RTA</th>\n",
              "      <th>RAD_RTA</th>\n",
              "      <th>FECHA_NOTIF</th>\n",
              "      <th>TIPO_NOTIF</th>\n",
              "      <th>F_SSPD</th>\n",
              "    </tr>\n",
              "  </thead>\n",
              "  <tbody>\n",
              "    <tr>\n",
              "      <th>0</th>\n",
              "      <td>8</td>\n",
              "      <td>1</td>\n",
              "      <td>0</td>\n",
              "      <td>RE1110201706563</td>\n",
              "      <td>20-02-2017</td>\n",
              "      <td>1</td>\n",
              "      <td>F</td>\n",
              "      <td>118</td>\n",
              "      <td>20004567</td>\n",
              "      <td>7773659016</td>\n",
              "      <td>10</td>\n",
              "      <td>NaN</td>\n",
              "      <td>NaN</td>\n",
              "      <td>NaN</td>\n",
              "      <td>4</td>\n",
              "      <td>NaN</td>\n",
              "    </tr>\n",
              "    <tr>\n",
              "      <th>1</th>\n",
              "      <td>8</td>\n",
              "      <td>1</td>\n",
              "      <td>0</td>\n",
              "      <td>RE1110201713228</td>\n",
              "      <td>10-04-2017</td>\n",
              "      <td>1</td>\n",
              "      <td>F</td>\n",
              "      <td>102</td>\n",
              "      <td>17205311</td>\n",
              "      <td>2250644189</td>\n",
              "      <td>10</td>\n",
              "      <td>NaN</td>\n",
              "      <td>NaN</td>\n",
              "      <td>NaN</td>\n",
              "      <td>4</td>\n",
              "      <td>NaN</td>\n",
              "    </tr>\n",
              "    <tr>\n",
              "      <th>2</th>\n",
              "      <td>8</td>\n",
              "      <td>1</td>\n",
              "      <td>0</td>\n",
              "      <td>RE1110201731806</td>\n",
              "      <td>13-08-2017</td>\n",
              "      <td>1</td>\n",
              "      <td>F</td>\n",
              "      <td>122</td>\n",
              "      <td>17141535</td>\n",
              "      <td>2191113211</td>\n",
              "      <td>10</td>\n",
              "      <td>NaN</td>\n",
              "      <td>NaN</td>\n",
              "      <td>NaN</td>\n",
              "      <td>4</td>\n",
              "      <td>NaN</td>\n",
              "    </tr>\n",
              "    <tr>\n",
              "      <th>3</th>\n",
              "      <td>8</td>\n",
              "      <td>1</td>\n",
              "      <td>0</td>\n",
              "      <td>RE1110201732325</td>\n",
              "      <td>16-08-2017</td>\n",
              "      <td>1</td>\n",
              "      <td>F</td>\n",
              "      <td>102</td>\n",
              "      <td>17259404</td>\n",
              "      <td>2131679238</td>\n",
              "      <td>10</td>\n",
              "      <td>NaN</td>\n",
              "      <td>NaN</td>\n",
              "      <td>NaN</td>\n",
              "      <td>4</td>\n",
              "      <td>NaN</td>\n",
              "    </tr>\n",
              "    <tr>\n",
              "      <th>4</th>\n",
              "      <td>8</td>\n",
              "      <td>1</td>\n",
              "      <td>0</td>\n",
              "      <td>RE1110201734341</td>\n",
              "      <td>31-08-2017</td>\n",
              "      <td>1</td>\n",
              "      <td>F</td>\n",
              "      <td>102</td>\n",
              "      <td>19677691</td>\n",
              "      <td>7627906055</td>\n",
              "      <td>10</td>\n",
              "      <td>NaN</td>\n",
              "      <td>NaN</td>\n",
              "      <td>NaN</td>\n",
              "      <td>4</td>\n",
              "      <td>NaN</td>\n",
              "    </tr>\n",
              "  </tbody>\n",
              "</table>\n",
              "</div>"
            ],
            "text/plain": [
              "   DANE_DEPTO  DANE_MUN  DANE_LOC  ... FECHA_NOTIF TIPO_NOTIF  F_SSPD\n",
              "0           8         1         0  ...         NaN          4     NaN\n",
              "1           8         1         0  ...         NaN          4     NaN\n",
              "2           8         1         0  ...         NaN          4     NaN\n",
              "3           8         1         0  ...         NaN          4     NaN\n",
              "4           8         1         0  ...         NaN          4     NaN\n",
              "\n",
              "[5 rows x 16 columns]"
            ]
          },
          "metadata": {
            "tags": []
          },
          "execution_count": 9
        }
      ]
    },
    {
      "cell_type": "code",
      "metadata": {
        "colab": {
          "base_uri": "https://localhost:8080/"
        },
        "id": "0Ny13db_VMKX",
        "outputId": "8ed49e3e-479b-45a1-f411-3a263fb2712f"
      },
      "source": [
        "## Revisar el tamaño del dataset\n",
        "\n",
        "Reclamos.shape"
      ],
      "execution_count": 10,
      "outputs": [
        {
          "output_type": "execute_result",
          "data": {
            "text/plain": [
              "(66199, 16)"
            ]
          },
          "metadata": {
            "tags": []
          },
          "execution_count": 10
        }
      ]
    },
    {
      "cell_type": "code",
      "metadata": {
        "colab": {
          "base_uri": "https://localhost:8080/"
        },
        "id": "ybxq_QpMEu4I",
        "outputId": "c5094920-7c61-4ecc-d5f2-15a7d18020fb"
      },
      "source": [
        "## Obtener el tipo de dato de cada variable y la totalidad de las entradas\n",
        "\n",
        "Reclamos.info()"
      ],
      "execution_count": 11,
      "outputs": [
        {
          "output_type": "stream",
          "text": [
            "<class 'pandas.core.frame.DataFrame'>\n",
            "RangeIndex: 66199 entries, 0 to 66198\n",
            "Data columns (total 16 columns):\n",
            " #   Column          Non-Null Count  Dtype \n",
            "---  ------          --------------  ----- \n",
            " 0   DANE_DEPTO      66199 non-null  int64 \n",
            " 1   DANE_MUN        66199 non-null  int64 \n",
            " 2   DANE_LOC        66199 non-null  int64 \n",
            " 3   RADICADO        66199 non-null  object\n",
            " 4   FECHA_RADICADO  66199 non-null  object\n",
            " 5   TIPO_TRAMITE    66199 non-null  int64 \n",
            " 6   CAUSAL          66199 non-null  object\n",
            " 7   DETALLE_CAUSAL  66199 non-null  int64 \n",
            " 8   NUI             66199 non-null  int64 \n",
            " 9   FACTURA         66199 non-null  object\n",
            " 10  TIPO_RTA        66199 non-null  int64 \n",
            " 11  FECHA_RTA       34995 non-null  object\n",
            " 12  RAD_RTA         34995 non-null  object\n",
            " 13  FECHA_NOTIF     6848 non-null   object\n",
            " 14  TIPO_NOTIF      66199 non-null  int64 \n",
            " 15  F_SSPD          1243 non-null   object\n",
            "dtypes: int64(8), object(8)\n",
            "memory usage: 8.1+ MB\n"
          ],
          "name": "stdout"
        }
      ]
    },
    {
      "cell_type": "code",
      "metadata": {
        "id": "1DZK610cNE2n"
      },
      "source": [
        "## Se elimina la variable que no aporta informacion al proposito del proyecto, como numero de radicado, NUI (Identificacion del cliente), numero de factura dado que son distintas siempre\n",
        "\n",
        "Reclamos = Reclamos.drop(['RADICADO', 'NUI', 'FACTURA'], axis = 1)"
      ],
      "execution_count": 12,
      "outputs": []
    },
    {
      "cell_type": "code",
      "metadata": {
        "colab": {
          "base_uri": "https://localhost:8080/"
        },
        "id": "N8X4WSvkE4Ez",
        "outputId": "b0092c07-2450-4482-c383-3d452c8b42fe"
      },
      "source": [
        "## revisar si existen datos faltantes dentro del dataframe\n",
        "\n",
        "Reclamos.isnull().sum()"
      ],
      "execution_count": 13,
      "outputs": [
        {
          "output_type": "execute_result",
          "data": {
            "text/plain": [
              "DANE_DEPTO            0\n",
              "DANE_MUN              0\n",
              "DANE_LOC              0\n",
              "FECHA_RADICADO        0\n",
              "TIPO_TRAMITE          0\n",
              "CAUSAL                0\n",
              "DETALLE_CAUSAL        0\n",
              "TIPO_RTA              0\n",
              "FECHA_RTA         31204\n",
              "RAD_RTA           31204\n",
              "FECHA_NOTIF       59351\n",
              "TIPO_NOTIF            0\n",
              "F_SSPD            64956\n",
              "dtype: int64"
            ]
          },
          "metadata": {
            "tags": []
          },
          "execution_count": 13
        }
      ]
    },
    {
      "cell_type": "code",
      "metadata": {
        "id": "iJEaTvR5Fyg4"
      },
      "source": [
        "## Se elimina la variable FECHA_RTA, RAD_RTA, FECHA_NOTIF, F_SSPD dado que no aporta informacion relevante al proposito del proyecto y se tienen varios campos nulos\n",
        "\n",
        "Reclamos = Reclamos.drop(['FECHA_RTA', 'RAD_RTA', 'FECHA_NOTIF', 'F_SSPD'], axis = 1)"
      ],
      "execution_count": 14,
      "outputs": []
    },
    {
      "cell_type": "code",
      "metadata": {
        "colab": {
          "base_uri": "https://localhost:8080/"
        },
        "id": "x150sD_EGYTb",
        "outputId": "d4147cd4-d770-4b89-b1b4-4af0fade8e05"
      },
      "source": [
        "## se revisa nuevamente si existen datos faltantes dentro del dataframe\n",
        "\n",
        "Reclamos.isnull().sum()"
      ],
      "execution_count": 15,
      "outputs": [
        {
          "output_type": "execute_result",
          "data": {
            "text/plain": [
              "DANE_DEPTO        0\n",
              "DANE_MUN          0\n",
              "DANE_LOC          0\n",
              "FECHA_RADICADO    0\n",
              "TIPO_TRAMITE      0\n",
              "CAUSAL            0\n",
              "DETALLE_CAUSAL    0\n",
              "TIPO_RTA          0\n",
              "TIPO_NOTIF        0\n",
              "dtype: int64"
            ]
          },
          "metadata": {
            "tags": []
          },
          "execution_count": 15
        }
      ]
    },
    {
      "cell_type": "code",
      "metadata": {
        "colab": {
          "base_uri": "https://localhost:8080/"
        },
        "id": "Lcqx5RtVVRcY",
        "outputId": "d537221a-3874-4a5b-f613-fc68ca1fda78"
      },
      "source": [
        "## Revisar el tamaño del dataset\n",
        "\n",
        "Reclamos.shape"
      ],
      "execution_count": 16,
      "outputs": [
        {
          "output_type": "execute_result",
          "data": {
            "text/plain": [
              "(66199, 9)"
            ]
          },
          "metadata": {
            "tags": []
          },
          "execution_count": 16
        }
      ]
    },
    {
      "cell_type": "code",
      "metadata": {
        "colab": {
          "base_uri": "https://localhost:8080/",
          "height": 397
        },
        "id": "KkptiPXyJCwM",
        "outputId": "7bb7e370-2349-44c5-ce2b-7c6160c9cf38"
      },
      "source": [
        "# Se grafica la variable objetivo, en este caso es el tipo de tramite de reclamacion\n",
        "\n",
        "sns.set(font_scale = 1.2)\n",
        "sns.set_style('white')\n",
        "plt.figure(figsize=(8,6))\n",
        "ax = sns.countplot(x = Reclamos['TIPO_TRAMITE'], data = Reclamos, palette = 'crest', order = Reclamos.TIPO_TRAMITE.value_counts().index)\n",
        "plt.title('Tramite de Reclamacion')\n",
        "ax.set(xlabel=None, ylabel=None)\n",
        "plt.show()"
      ],
      "execution_count": 17,
      "outputs": [
        {
          "output_type": "display_data",
          "data": {
            "image/png": "[encoded data removed]",
            "text/plain": [
              "<Figure size 576x432 with 1 Axes>"
            ]
          },
          "metadata": {
            "tags": []
          }
        }
      ]
    },
    {
      "cell_type": "code",
      "metadata": {
        "colab": {
          "base_uri": "https://localhost:8080/",
          "height": 397
        },
        "id": "Amwrzjq9GZ2G",
        "outputId": "acb147dc-1656-4f31-9bd2-ffdb0184fc6a"
      },
      "source": [
        "# Se grafica la variable detalle de causal, la cual es una variable categorica\n",
        "sns.set(font_scale = 1.2)\n",
        "sns.set_style('white')\n",
        "plt.figure(figsize=(10,6))\n",
        "ax = sns.countplot(x = Reclamos['DETALLE_CAUSAL'], data = Reclamos, palette = 'Blues_r', order = Reclamos.DETALLE_CAUSAL.value_counts().index)\n",
        "plt.title('Detalle causa Reclamacion')\n",
        "ax.set(xlabel=None, ylabel=None)\n",
        "plt.show()"
      ],
      "execution_count": 18,
      "outputs": [
        {
          "output_type": "display_data",
          "data": {
            "image/png": "[encoded data removed]",
            "text/plain": [
              "<Figure size 720x432 with 1 Axes>"
            ]
          },
          "metadata": {
            "tags": []
          }
        }
      ]
    },
    {
      "cell_type": "code",
      "metadata": {
        "colab": {
          "base_uri": "https://localhost:8080/",
          "height": 397
        },
        "id": "Hh3jaQ9OHGGa",
        "outputId": "53fc4941-2420-4c88-e51d-0a28b72bc118"
      },
      "source": [
        "# Se grafica la variable departamento, la cual es una variable categorica\n",
        "\n",
        "sns.set(font_scale = 1.2)\n",
        "sns.set_style('white')\n",
        "plt.figure(figsize=(8,6))\n",
        "ax = sns.countplot(x = Reclamos['DANE_DEPTO'], data = Reclamos, palette = 'vlag', order = Reclamos.DANE_DEPTO.value_counts().index)\n",
        "plt.title('Departamento origen de Reclamacion')\n",
        "ax.set(xlabel=None, ylabel=None)\n",
        "plt.show()\n"
      ],
      "execution_count": 19,
      "outputs": [
        {
          "output_type": "display_data",
          "data": {
            "image/png": "[encoded data removed]",
            "text/plain": [
              "<Figure size 576x432 with 1 Axes>"
            ]
          },
          "metadata": {
            "tags": []
          }
        }
      ]
    },
    {
      "cell_type": "code",
      "metadata": {
        "colab": {
          "base_uri": "https://localhost:8080/",
          "height": 397
        },
        "id": "xB1t16UMKWrI",
        "outputId": "9a06d1ba-f775-4120-9ebc-4d09b3c1f564"
      },
      "source": [
        "# Se grafica la variable causal, la cual es una variable categorica\n",
        "\n",
        "sns.set(font_scale = 1.2)\n",
        "sns.set_style('white')\n",
        "plt.figure(figsize=(10,6))\n",
        "ax = sns.countplot(x = Reclamos['CAUSAL'], data = Reclamos, palette = 'pastel', order = Reclamos.CAUSAL.value_counts().index)\n",
        "plt.title('Queja asociada a Factura/Prestacion de servicios')\n",
        "ax.set(xlabel=None, ylabel=None)\n",
        "plt.show()"
      ],
      "execution_count": 20,
      "outputs": [
        {
          "output_type": "display_data",
          "data": {
            "image/png": "[encoded data removed]",
            "text/plain": [
              "<Figure size 720x432 with 1 Axes>"
            ]
          },
          "metadata": {
            "tags": []
          }
        }
      ]
    },
    {
      "cell_type": "code",
      "metadata": {
        "colab": {
          "base_uri": "https://localhost:8080/",
          "height": 397
        },
        "id": "1przQU3ILd-F",
        "outputId": "5fefc2f4-a79b-42d1-a47e-3c0bfbbc8276"
      },
      "source": [
        "# Se grafica la variable tipo de respuesta, la cual es una variable categorica\n",
        "\n",
        "sns.set(font_scale = 1.2)\n",
        "sns.set_style('white')\n",
        "plt.figure(figsize=(10,6))\n",
        "ax = sns.countplot(x = Reclamos['TIPO_RTA'], data = Reclamos, palette = 'ch:1,r=.5,l=.9_r', order = Reclamos.TIPO_RTA.value_counts().index, alpha = 0.8)\n",
        "plt.title('Tipo de Respuesta')\n",
        "ax.set(xlabel=None, ylabel=None)\n",
        "plt.show()"
      ],
      "execution_count": 21,
      "outputs": [
        {
          "output_type": "display_data",
          "data": {
            "image/png": "[encoded data removed]",
            "text/plain": [
              "<Figure size 720x432 with 1 Axes>"
            ]
          },
          "metadata": {
            "tags": []
          }
        }
      ]
    },
    {
      "cell_type": "code",
      "metadata": {
        "colab": {
          "base_uri": "https://localhost:8080/",
          "height": 505
        },
        "id": "safIT7BHQMYR",
        "outputId": "21546667-f1f5-4530-e109-61fa28209277"
      },
      "source": [
        "# Se grafica el detalle causal dividido cada uno por el tipo de tramite (nuestra variable objetivo)\n",
        "\n",
        "sns.set(font_scale = 1.2)\n",
        "sns.set_style('white')\n",
        "plt.figure(figsize=(20,8))\n",
        "ax = sns.countplot(x = Reclamos['DETALLE_CAUSAL'], data = Reclamos, hue = Reclamos['TIPO_TRAMITE'] ,order = Reclamos.DETALLE_CAUSAL.value_counts().index, hue_order=Reclamos.TIPO_TRAMITE.value_counts().index)\n",
        "plt.title('Detalle causa Reclamacion')\n",
        "ax.set(xlabel=None, ylabel=None)\n",
        "plt.show()"
      ],
      "execution_count": 22,
      "outputs": [
        {
          "output_type": "display_data",
          "data": {
            "image/png": "[encoded data removed]",
            "text/plain": [
              "<Figure size 1440x576 with 1 Axes>"
            ]
          },
          "metadata": {
            "tags": []
          }
        }
      ]
    },
    {
      "cell_type": "markdown",
      "metadata": {
        "id": "1D0-d1pC9ul_"
      },
      "source": [
        "# Entrenamiento del modelo de clasificacion"
      ]
    },
    {
      "cell_type": "code",
      "metadata": {
        "id": "KPBSXm7RUnog"
      },
      "source": [
        "# Se definen las variables X a usar para entrenar el modelo y su Y correspondientes\n",
        "\n",
        "Reclamos_names = ['DANE_DEPTO','DANE_MUN','DETALLE_CAUSAL','TIPO_RTA', 'TIPO_NOTIF']\n",
        "X = Reclamos[Reclamos_names]\n",
        "y = Reclamos['TIPO_TRAMITE']"
      ],
      "execution_count": 23,
      "outputs": []
    },
    {
      "cell_type": "code",
      "metadata": {
        "colab": {
          "base_uri": "https://localhost:8080/"
        },
        "id": "iAYqHapFU_61",
        "outputId": "0040941e-84ee-49c9-e915-96ccccac5aa0"
      },
      "source": [
        "# Compute training, validation and testing datasets\n",
        "from sklearn.model_selection import train_test_split\n",
        "X_train, X_test, y_train, y_test = train_test_split(X, y, random_state=0)\n",
        "\n",
        "X_train, X_val, y_train, y_val = train_test_split(X_train, y_train, random_state=1)\n",
        "\n",
        "print(X_train.shape)\n",
        "print(X_val.shape)\n",
        "# No tocar\n",
        "print(X_test.shape)"
      ],
      "execution_count": 24,
      "outputs": [
        {
          "output_type": "stream",
          "text": [
            "(37236, 5)\n",
            "(12413, 5)\n",
            "(16550, 5)\n"
          ],
          "name": "stdout"
        }
      ]
    },
    {
      "cell_type": "code",
      "metadata": {
        "id": "uUxQ_FdBV82a"
      },
      "source": [
        "# Scale features\n",
        "from sklearn.preprocessing import MinMaxScaler\n",
        "scaler = MinMaxScaler()\n",
        "X_train = scaler.fit_transform(X_train)\n",
        "X_test = scaler.transform(X_test)\n",
        "X_val = scaler.transform(X_val)"
      ],
      "execution_count": 25,
      "outputs": []
    },
    {
      "cell_type": "markdown",
      "metadata": {
        "id": "UzknOnlgWPMu"
      },
      "source": [
        "## Comparacion de modelos de validacion"
      ]
    },
    {
      "cell_type": "markdown",
      "metadata": {
        "id": "AUh5KHrCWpjF"
      },
      "source": [
        "## KNN"
      ]
    },
    {
      "cell_type": "code",
      "metadata": {
        "colab": {
          "base_uri": "https://localhost:8080/"
        },
        "id": "MLHEDxjnWuDV",
        "outputId": "64213dd0-f2e8-44fd-cd1a-ea724a3b3227"
      },
      "source": [
        "from sklearn.neighbors import KNeighborsClassifier\n",
        "knn1 = KNeighborsClassifier(n_neighbors=1)\n",
        "knn1.fit(X_train, y_train)\n",
        "print('Accuracy of K-NN-1 classifier on training set: {:.2f}'\n",
        "     .format(knn1.score(X_train, y_train)))\n",
        "print('Accuracy of K-NN-1 classifier on validation set: {:.2f}'\n",
        "     .format(knn1.score(X_val, y_val)))\n",
        "\n",
        "knn2 = KNeighborsClassifier(n_neighbors=2)\n",
        "knn2.fit(X_train, y_train)\n",
        "print('Accuracy of K-NN-2 classifier on training set: {:.2f}'\n",
        "     .format(knn2.score(X_train, y_train)))\n",
        "print('Accuracy of K-NN-2 classifier on validation set: {:.2f}'\n",
        "     .format(knn2.score(X_val, y_val)))\n",
        "\n",
        "knn3 = KNeighborsClassifier(n_neighbors=3)\n",
        "knn3.fit(X_train, y_train)\n",
        "print('Accuracy of K-NN-2 classifier on training set: {:.2f}'\n",
        "     .format(knn3.score(X_train, y_train)))\n",
        "print('Accuracy of K-NN-2 classifier on validation set: {:.2f}'\n",
        "     .format(knn3.score(X_val, y_val)))"
      ],
      "execution_count": 26,
      "outputs": [
        {
          "output_type": "stream",
          "text": [
            "Accuracy of K-NN-1 classifier on training set: 0.82\n",
            "Accuracy of K-NN-1 classifier on validation set: 0.81\n",
            "Accuracy of K-NN-2 classifier on training set: 0.86\n",
            "Accuracy of K-NN-2 classifier on validation set: 0.86\n",
            "Accuracy of K-NN-2 classifier on training set: 0.85\n",
            "Accuracy of K-NN-2 classifier on validation set: 0.84\n"
          ],
          "name": "stdout"
        }
      ]
    },
    {
      "cell_type": "markdown",
      "metadata": {
        "id": "5hfX3YhNW3yw"
      },
      "source": [
        "## Linear discriminant analysis"
      ]
    },
    {
      "cell_type": "code",
      "metadata": {
        "colab": {
          "base_uri": "https://localhost:8080/"
        },
        "id": "hMxjnVG9W5Vy",
        "outputId": "e611e29f-2915-4f00-cc3b-1e788acbe085"
      },
      "source": [
        "from sklearn.discriminant_analysis import LinearDiscriminantAnalysis\n",
        "lda = LinearDiscriminantAnalysis()\n",
        "lda.fit(X_train, y_train)\n",
        "print('Accuracy of LDA classifier on training set: {:.2f}'\n",
        "     .format(lda.score(X_train, y_train)))\n",
        "print('Accuracy of LDA classifier on validation set: {:.2f}'\n",
        "     .format(lda.score(X_val, y_val)))"
      ],
      "execution_count": 27,
      "outputs": [
        {
          "output_type": "stream",
          "text": [
            "Accuracy of LDA classifier on training set: 0.81\n",
            "Accuracy of LDA classifier on validation set: 0.81\n"
          ],
          "name": "stdout"
        }
      ]
    },
    {
      "cell_type": "markdown",
      "metadata": {
        "id": "ElX5W_4NW-6y"
      },
      "source": [
        "## Gaussian Naive Bayes"
      ]
    },
    {
      "cell_type": "code",
      "metadata": {
        "colab": {
          "base_uri": "https://localhost:8080/"
        },
        "id": "svW3mzBOXAmG",
        "outputId": "abfdf8b6-3b4d-4527-afa8-a5968a14beeb"
      },
      "source": [
        "from sklearn.naive_bayes import GaussianNB\n",
        "gnb = GaussianNB()\n",
        "gnb.fit(X_train, y_train)\n",
        "print('Accuracy of GNB classifier on training set: {:.2f}'\n",
        "     .format(gnb.score(X_train, y_train)))\n",
        "print('Accuracy of GNB classifier on validation set: {:.2f}'\n",
        "     .format(gnb.score(X_val, y_val)))"
      ],
      "execution_count": 28,
      "outputs": [
        {
          "output_type": "stream",
          "text": [
            "Accuracy of GNB classifier on training set: 0.80\n",
            "Accuracy of GNB classifier on validation set: 0.80\n"
          ],
          "name": "stdout"
        }
      ]
    },
    {
      "cell_type": "markdown",
      "metadata": {
        "id": "rjx3g1ReXGS7"
      },
      "source": [
        "## Support Vector Machine"
      ]
    },
    {
      "cell_type": "code",
      "metadata": {
        "colab": {
          "base_uri": "https://localhost:8080/"
        },
        "id": "zw-zwvVCXJIV",
        "outputId": "d71d6b84-ea8d-4fa2-a51d-69ade3c3b20f"
      },
      "source": [
        "from sklearn.svm import SVC\n",
        "svm = SVC()\n",
        "svm.fit(X_train, y_train)\n",
        "print('Accuracy of SVM classifier on training set: {:.2f}'\n",
        "     .format(svm.score(X_train, y_train)))\n",
        "print('Accuracy of SVM classifier on validation set: {:.2f}'\n",
        "     .format(svm.score(X_val, y_val)))"
      ],
      "execution_count": 29,
      "outputs": [
        {
          "output_type": "stream",
          "text": [
            "Accuracy of SVM classifier on training set: 0.86\n",
            "Accuracy of SVM classifier on validation set: 0.86\n"
          ],
          "name": "stdout"
        }
      ]
    },
    {
      "cell_type": "markdown",
      "metadata": {
        "id": "wf3QHWqBeaT9"
      },
      "source": [
        "## Test"
      ]
    },
    {
      "cell_type": "code",
      "metadata": {
        "colab": {
          "base_uri": "https://localhost:8080/"
        },
        "id": "cCYZRT3Id_9j",
        "outputId": "9219ded2-8e06-4e03-815b-0d21c6ad0785"
      },
      "source": [
        "# El modelo que mejor precision tiene es el SVM, con un accuaracy de 0.86 en la validacion\n",
        "\n",
        "print('Accuracy of svm classifier on validation set: {:.2f}'\n",
        "     .format(svm.score(X_test, y_test)))"
      ],
      "execution_count": 30,
      "outputs": [
        {
          "output_type": "stream",
          "text": [
            "Accuracy of svm classifier on validation set: 0.86\n"
          ],
          "name": "stdout"
        }
      ]
    },
    {
      "cell_type": "markdown",
      "metadata": {
        "id": "cmI8hVuJepPF"
      },
      "source": [
        "## Detalles del set de test"
      ]
    },
    {
      "cell_type": "code",
      "metadata": {
        "colab": {
          "base_uri": "https://localhost:8080/"
        },
        "id": "VDKPzx9dePNk",
        "outputId": "f76fab6d-e7ff-4670-afcc-b3ec4242ba8e"
      },
      "source": [
        "from sklearn.metrics import classification_report\n",
        "from sklearn.metrics import confusion_matrix\n",
        "pred = svm.predict(X_test)\n",
        "print(confusion_matrix(y_test, pred))\n",
        "print(classification_report(y_test, pred))"
      ],
      "execution_count": 31,
      "outputs": [
        {
          "output_type": "stream",
          "text": [
            "[[11702     0    21]\n",
            " [  569   537   193]\n",
            " [ 1445   148  1935]]\n",
            "              precision    recall  f1-score   support\n",
            "\n",
            "           1       0.85      1.00      0.92     11723\n",
            "           4       0.78      0.41      0.54      1299\n",
            "           5       0.90      0.55      0.68      3528\n",
            "\n",
            "    accuracy                           0.86     16550\n",
            "   macro avg       0.85      0.65      0.71     16550\n",
            "weighted avg       0.86      0.86      0.84     16550\n",
            "\n"
          ],
          "name": "stdout"
        }
      ]
    }
  ]
}