{
  "nbformat": 4,
  "nbformat_minor": 0,
  "metadata": {
    "colab": {
      "name": "Untitled1.ipynb",
      "provenance": []
    },
    "kernelspec": {
      "name": "python3",
      "display_name": "Python 3"
    },
    "language_info": {
      "name": "python"
    }
  },
  "cells": [
    {
      "cell_type": "markdown",
      "metadata": {
        "id": "v4fBfw0zy_Vk"
      },
      "source": [
        "##Conclusiones\n",
        "\n",
        "De acuerdo con los resultados obtenidos y considerando lo modelos que fueron ejecutados, para este ejercicio se decide utilizar los resultados que entrega el modelo de \"Máquinas de vectores de Soporte\" considerando que arrojó un porcentaje de entrenamiento y de clasificación del 86% según la base de datos utilizada.\n",
        "\n",
        "Lo anterior, permitió identificar que las variables explicativas DANE_Departamento,DANE_Municipio, Detalle_Causal,Tipo_Respuesta y  Tipo_Notificación predicen en el 86% la clasificación de los nuevos registros que ingresen a la empresa de acuerdo con los tipos de tramite asociados a Reclamaciones, Recursos de Reposición y Recursos de Reposición en Subsidiario de Apelación.\n",
        "\n",
        "Por lo anterior, una vez evaluados estos resultados, la empresa al considerar que los tramites con asignación 5 (Recursos de Reposición en Subsidiario de Apelación) que presentaron una precisión del 90%, debería proceder con los esfuerzos suficientes para resolver estas solicitudes; considerando que, inicialmente estos trámites son las segundas etapas de los requerimientos y se tipifican de esta manera, debido a que, en primera instancia no fue resuelto la solicitud al usuario y debido a esto es traslado a la Superintendencia de Servicios Públicos (Ente Vigilador).\n",
        "\n",
        "así bien, sabiendo que los nuevos registros que ingresan a la empresa estarían asociados a estos trámites, la empresa debería incrementar el presupuesto a solucionar estas solicitudes, dado a que a mayor número de requerimientos ingresados a la SSPD, la empresa tendría mayor posibilidad de ser investigada y de incrementar una imagen negativa hacia los usuarios. "
      ]
    }
  ]
}