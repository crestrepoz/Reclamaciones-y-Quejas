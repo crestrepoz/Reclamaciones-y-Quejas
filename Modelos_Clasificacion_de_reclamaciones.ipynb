{
  "nbformat": 4,
  "nbformat_minor": 0,
  "metadata": {
    "colab": {
      "name": "Clasificacion de reclamaciones.ipynb",
      "provenance": [],
      "include_colab_link": true
    },
    "kernelspec": {
      "name": "python3",
      "display_name": "Python 3"
    },
    "language_info": {
      "name": "python"
    },
    "accelerator": "TPU"
  },
  "cells": [
    {
      "cell_type": "markdown",
      "metadata": {
        "id": "view-in-github",
        "colab_type": "text"
      },
      "source": [
        "<a href=\"https://colab.research.google.com/github/crestrepoz/Reclamaciones-y-Quejas/blob/main/Modelos_Clasificacion_de_reclamaciones.ipynb\" target=\"_parent\"><img src=\"https://colab.research.google.com/assets/colab-badge.svg\" alt=\"Open In Colab\"/></a>"
      ]
    },
    {
      "cell_type": "markdown",
      "metadata": {
        "id": "1D0-d1pC9ul_"
      },
      "source": [
        "# Entrenamiento del modelo de clasificacion"
      ]
    },
    {
      "cell_type": "code",
      "metadata": {
        "id": "KPBSXm7RUnog"
      },
      "source": [
        "# Se definen las variables X a usar para entrenar el modelo y su Y correspondientes\n",
        "\n",
        "Reclamos_names = ['DANE_DEPTO','DANE_MUN','DETALLE_CAUSAL','TIPO_RTA', 'TIPO_NOTIF']\n",
        "X = Reclamos[Reclamos_names]\n",
        "y = Reclamos['TIPO_TRAMITE']"
      ],
      "execution_count": 23,
      "outputs": []
    },
    {
      "cell_type": "code",
      "metadata": {
        "colab": {
          "base_uri": "https://localhost:8080/"
        },
        "id": "iAYqHapFU_61",
        "outputId": "0040941e-84ee-49c9-e915-96ccccac5aa0"
      },
      "source": [
        "# Compute training, validation and testing datasets\n",
        "from sklearn.model_selection import train_test_split\n",
        "X_train, X_test, y_train, y_test = train_test_split(X, y, random_state=0)\n",
        "\n",
        "X_train, X_val, y_train, y_val = train_test_split(X_train, y_train, random_state=1)\n",
        "\n",
        "print(X_train.shape)\n",
        "print(X_val.shape)\n",
        "# No tocar\n",
        "print(X_test.shape)"
      ],
      "execution_count": 24,
      "outputs": [
        {
          "output_type": "stream",
          "text": [
            "(37236, 5)\n",
            "(12413, 5)\n",
            "(16550, 5)\n"
          ],
          "name": "stdout"
        }
      ]
    },
    {
      "cell_type": "code",
      "metadata": {
        "id": "uUxQ_FdBV82a"
      },
      "source": [
        "# Scale features\n",
        "from sklearn.preprocessing import MinMaxScaler\n",
        "scaler = MinMaxScaler()\n",
        "X_train = scaler.fit_transform(X_train)\n",
        "X_test = scaler.transform(X_test)\n",
        "X_val = scaler.transform(X_val)"
      ],
      "execution_count": 25,
      "outputs": []
    },
    {
      "cell_type": "markdown",
      "metadata": {
        "id": "UzknOnlgWPMu"
      },
      "source": [
        "## Comparacion de modelos de validacion"
      ]
    },
    {
      "cell_type": "markdown",
      "metadata": {
        "id": "AUh5KHrCWpjF"
      },
      "source": [
        "## KNN"
      ]
    },
    {
      "cell_type": "code",
      "metadata": {
        "colab": {
          "base_uri": "https://localhost:8080/"
        },
        "id": "MLHEDxjnWuDV",
        "outputId": "64213dd0-f2e8-44fd-cd1a-ea724a3b3227"
      },
      "source": [
        "from sklearn.neighbors import KNeighborsClassifier\n",
        "knn1 = KNeighborsClassifier(n_neighbors=1)\n",
        "knn1.fit(X_train, y_train)\n",
        "print('Accuracy of K-NN-1 classifier on training set: {:.2f}'\n",
        "     .format(knn1.score(X_train, y_train)))\n",
        "print('Accuracy of K-NN-1 classifier on validation set: {:.2f}'\n",
        "     .format(knn1.score(X_val, y_val)))\n",
        "\n",
        "knn2 = KNeighborsClassifier(n_neighbors=2)\n",
        "knn2.fit(X_train, y_train)\n",
        "print('Accuracy of K-NN-2 classifier on training set: {:.2f}'\n",
        "     .format(knn2.score(X_train, y_train)))\n",
        "print('Accuracy of K-NN-2 classifier on validation set: {:.2f}'\n",
        "     .format(knn2.score(X_val, y_val)))\n",
        "\n",
        "knn3 = KNeighborsClassifier(n_neighbors=3)\n",
        "knn3.fit(X_train, y_train)\n",
        "print('Accuracy of K-NN-2 classifier on training set: {:.2f}'\n",
        "     .format(knn3.score(X_train, y_train)))\n",
        "print('Accuracy of K-NN-2 classifier on validation set: {:.2f}'\n",
        "     .format(knn3.score(X_val, y_val)))"
      ],
      "execution_count": 26,
      "outputs": [
        {
          "output_type": "stream",
          "text": [
            "Accuracy of K-NN-1 classifier on training set: 0.82\n",
            "Accuracy of K-NN-1 classifier on validation set: 0.81\n",
            "Accuracy of K-NN-2 classifier on training set: 0.86\n",
            "Accuracy of K-NN-2 classifier on validation set: 0.86\n",
            "Accuracy of K-NN-2 classifier on training set: 0.85\n",
            "Accuracy of K-NN-2 classifier on validation set: 0.84\n"
          ],
          "name": "stdout"
        }
      ]
    },
    {
      "cell_type": "markdown",
      "metadata": {
        "id": "5hfX3YhNW3yw"
      },
      "source": [
        "## Linear discriminant analysis"
      ]
    },
    {
      "cell_type": "code",
      "metadata": {
        "colab": {
          "base_uri": "https://localhost:8080/"
        },
        "id": "hMxjnVG9W5Vy",
        "outputId": "e611e29f-2915-4f00-cc3b-1e788acbe085"
      },
      "source": [
        "from sklearn.discriminant_analysis import LinearDiscriminantAnalysis\n",
        "lda = LinearDiscriminantAnalysis()\n",
        "lda.fit(X_train, y_train)\n",
        "print('Accuracy of LDA classifier on training set: {:.2f}'\n",
        "     .format(lda.score(X_train, y_train)))\n",
        "print('Accuracy of LDA classifier on validation set: {:.2f}'\n",
        "     .format(lda.score(X_val, y_val)))"
      ],
      "execution_count": 27,
      "outputs": [
        {
          "output_type": "stream",
          "text": [
            "Accuracy of LDA classifier on training set: 0.81\n",
            "Accuracy of LDA classifier on validation set: 0.81\n"
          ],
          "name": "stdout"
        }
      ]
    },
    {
      "cell_type": "markdown",
      "metadata": {
        "id": "ElX5W_4NW-6y"
      },
      "source": [
        "## Gaussian Naive Bayes"
      ]
    },
    {
      "cell_type": "code",
      "metadata": {
        "colab": {
          "base_uri": "https://localhost:8080/"
        },
        "id": "svW3mzBOXAmG",
        "outputId": "abfdf8b6-3b4d-4527-afa8-a5968a14beeb"
      },
      "source": [
        "from sklearn.naive_bayes import GaussianNB\n",
        "gnb = GaussianNB()\n",
        "gnb.fit(X_train, y_train)\n",
        "print('Accuracy of GNB classifier on training set: {:.2f}'\n",
        "     .format(gnb.score(X_train, y_train)))\n",
        "print('Accuracy of GNB classifier on validation set: {:.2f}'\n",
        "     .format(gnb.score(X_val, y_val)))"
      ],
      "execution_count": 28,
      "outputs": [
        {
          "output_type": "stream",
          "text": [
            "Accuracy of GNB classifier on training set: 0.80\n",
            "Accuracy of GNB classifier on validation set: 0.80\n"
          ],
          "name": "stdout"
        }
      ]
    },
    {
      "cell_type": "markdown",
      "metadata": {
        "id": "rjx3g1ReXGS7"
      },
      "source": [
        "## Support Vector Machine"
      ]
    },
    {
      "cell_type": "code",
      "metadata": {
        "colab": {
          "base_uri": "https://localhost:8080/"
        },
        "id": "zw-zwvVCXJIV",
        "outputId": "d71d6b84-ea8d-4fa2-a51d-69ade3c3b20f"
      },
      "source": [
        "from sklearn.svm import SVC\n",
        "svm = SVC()\n",
        "svm.fit(X_train, y_train)\n",
        "print('Accuracy of SVM classifier on training set: {:.2f}'\n",
        "     .format(svm.score(X_train, y_train)))\n",
        "print('Accuracy of SVM classifier on validation set: {:.2f}'\n",
        "     .format(svm.score(X_val, y_val)))"
      ],
      "execution_count": 29,
      "outputs": [
        {
          "output_type": "stream",
          "text": [
            "Accuracy of SVM classifier on training set: 0.86\n",
            "Accuracy of SVM classifier on validation set: 0.86\n"
          ],
          "name": "stdout"
        }
      ]
    },
    {
      "cell_type": "markdown",
      "metadata": {
        "id": "wf3QHWqBeaT9"
      },
      "source": [
        "## Test"
      ]
    },
    {
      "cell_type": "code",
      "metadata": {
        "colab": {
          "base_uri": "https://localhost:8080/"
        },
        "id": "cCYZRT3Id_9j",
        "outputId": "9219ded2-8e06-4e03-815b-0d21c6ad0785"
      },
      "source": [
        "# El modelo que mejor precision tiene es el SVM, con un accuaracy de 0.86 en la validacion\n",
        "\n",
        "print('Accuracy of svm classifier on validation set: {:.2f}'\n",
        "     .format(svm.score(X_test, y_test)))"
      ],
      "execution_count": 30,
      "outputs": [
        {
          "output_type": "stream",
          "text": [
            "Accuracy of svm classifier on validation set: 0.86\n"
          ],
          "name": "stdout"
        }
      ]
    },
    {
      "cell_type": "markdown",
      "metadata": {
        "id": "cmI8hVuJepPF"
      },
      "source": [
        "## Detalles del set de test"
      ]
    },
    {
      "cell_type": "code",
      "metadata": {
        "colab": {
          "base_uri": "https://localhost:8080/"
        },
        "id": "VDKPzx9dePNk",
        "outputId": "f76fab6d-e7ff-4670-afcc-b3ec4242ba8e"
      },
      "source": [
        "from sklearn.metrics import classification_report\n",
        "from sklearn.metrics import confusion_matrix\n",
        "pred = svm.predict(X_test)\n",
        "print(confusion_matrix(y_test, pred))\n",
        "print(classification_report(y_test, pred))"
      ],
      "execution_count": 31,
      "outputs": [
        {
          "output_type": "stream",
          "text": [
            "[[11702     0    21]\n",
            " [  569   537   193]\n",
            " [ 1445   148  1935]]\n",
            "              precision    recall  f1-score   support\n",
            "\n",
            "           1       0.85      1.00      0.92     11723\n",
            "           4       0.78      0.41      0.54      1299\n",
            "           5       0.90      0.55      0.68      3528\n",
            "\n",
            "    accuracy                           0.86     16550\n",
            "   macro avg       0.85      0.65      0.71     16550\n",
            "weighted avg       0.86      0.86      0.84     16550\n",
            "\n"
          ],
          "name": "stdout"
        }
      ]
    }
  ]
}